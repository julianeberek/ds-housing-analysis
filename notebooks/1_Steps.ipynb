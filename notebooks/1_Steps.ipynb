{
 "metadata": {
  "language_info": {
   "codemirror_mode": {
    "name": "ipython",
    "version": 3
   },
   "file_extension": ".py",
   "mimetype": "text/x-python",
   "name": "python",
   "nbconvert_exporter": "python",
   "pygments_lexer": "ipython3",
   "version": 3
  },
  "orig_nbformat": 2
 },
 "nbformat": 4,
 "nbformat_minor": 2,
 "cells": [
  {
   "source": [
    "## What steps will this analysis include?\n",
    "\n",
    "### Target group:\n",
    "Description of stakeholder and their interest \n",
    "- Zachary Brooks  \n",
    "- Invests in historical houses, best NHs, high profits, best timing within a year, should renovate? \n",
    "\n",
    "### Objectives for analysis:\n",
    "Answer the questions of the stakeholder and advise on strategy for buying houses\n",
    "\n",
    "### Data inspection.  \n",
    "About 5000 houses are 'historical'   \n",
    "To do: investigating  sqft_living15 or sqft_lot15: do they stand for best NHs?    \n",
    "To do: investigate conditions of houses with highest price per sqft  \n",
    "\n",
    "\n",
    "__Hypotheses:__   \n",
    "Waterfront and view could are impacting the price. -> \n",
    "The more recent the renovation, the higher the price. -> Zach needs to decide if buying cheap houses and renovating them is a good step.  \n",
    "The location is impacting the price_per_sqft.   \n",
    "\n",
    "\n",
    "\n",
    "Data exploration    \n",
    "Data cleaning    \n",
    "Data preparation (for analysis)    \n",
    "Modelling to explore hypotheses   \n",
    "\n",
    "\n",
    "Preparation of notebooks to put on GitHub \n",
    "Preparation of presentation to stakeholder\n"
   ],
   "cell_type": "markdown",
   "metadata": {}
  },
  {
   "cell_type": "code",
   "execution_count": null,
   "metadata": {},
   "outputs": [],
   "source": []
  }
 ]
}